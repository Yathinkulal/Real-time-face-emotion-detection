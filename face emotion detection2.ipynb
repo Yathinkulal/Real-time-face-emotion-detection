{
 "cells": [
  {
   "cell_type": "code",
   "execution_count": 2,
   "id": "f0a256ce",
   "metadata": {},
   "outputs": [],
   "source": [
    "import keras \n",
    "from keras.models import Sequential\n",
    "from keras.layers import Dense,Flatten,Dropout\n",
    "from keras.layers.convolutional import Conv2D,MaxPooling2D\n",
    "from keras.preprocessing.image import ImageDataGenerator ,load_img\n",
    "from tensorflow.keras.layers import BatchNormalization"
   ]
  },
  {
   "cell_type": "code",
   "execution_count": 3,
   "id": "f44fe51e",
   "metadata": {},
   "outputs": [],
   "source": [
    "import numpy as np\n",
    "import pandas as pd\n",
    "import matplotlib.pyplot as plt\n",
    "import random\n",
    "from sklearn.model_selection import train_test_split"
   ]
  },
  {
   "cell_type": "code",
   "execution_count": 4,
   "id": "f433614e",
   "metadata": {},
   "outputs": [],
   "source": [
    "#Importing Data from CSV file\n",
    "data=pd.read_csv(\"fer2013.csv\")"
   ]
  },
  {
   "cell_type": "code",
   "execution_count": 5,
   "id": "f8e68bd8",
   "metadata": {},
   "outputs": [],
   "source": [
    "labels=data.iloc[:,[0]].values"
   ]
  },
  {
   "cell_type": "code",
   "execution_count": 6,
   "id": "769bbc0e",
   "metadata": {},
   "outputs": [],
   "source": [
    "pixels=data['pixels']\n"
   ]
  },
  {
   "cell_type": "code",
   "execution_count": 8,
   "id": "75e8e992",
   "metadata": {},
   "outputs": [],
   "source": [
    "#Facial Expressions\n",
    "Expressions={0:\"Angry\",1:\"Disgust\",2:\"Fear\",3:\"Happy\",4:\"Sad\",5:\"Surprise\",6:\"Neutral\"}\n",
    "from tensorflow.keras.utils import to_categorical\n",
    "labels = to_categorical(labels,len(Expressions))"
   ]
  },
  {
   "cell_type": "code",
   "execution_count": 9,
   "id": "ae7a81e6",
   "metadata": {},
   "outputs": [],
   "source": [
    "#converting pixels to Gray Scale images of 48X48 \n",
    "images = np.array([np.fromstring(pixel, dtype=int, sep=\" \")for pixel in pixels])\n",
    "images=images/255.0\n",
    "images = images.reshape(images.shape[0],48,48,1).astype('float32')"
   ]
  },
  {
   "cell_type": "code",
   "execution_count": 10,
   "id": "c7dcdc3c",
   "metadata": {},
   "outputs": [
    {
     "data": {
      "text/plain": [
       "'Disgust'"
      ]
     },
     "execution_count": 10,
     "metadata": {},
     "output_type": "execute_result"
    },
    {
     "data": {
      "image/png": "[encoded data removed]",
      "text/plain": [
       "<Figure size 432x288 with 1 Axes>"
      ]
     },
     "metadata": {
      "needs_background": "light"
     },
     "output_type": "display_data"
    }
   ],
   "source": [
    "plt.imshow(images[0][:,:,0])\n",
    "Expressions[labels[0][0]]"
   ]
  },
  {
   "cell_type": "code",
   "execution_count": 11,
   "id": "e0535603",
   "metadata": {},
   "outputs": [],
   "source": [
    "#splitting data into training and test data\n",
    "train_images,test_images,train_labels,test_labels = train_test_split(images,labels,test_size=0.2,random_state=0)"
   ]
  },
  {
   "cell_type": "code",
   "execution_count": 12,
   "id": "53c59b75",
   "metadata": {},
   "outputs": [
    {
     "data": {
      "text/plain": [
       "array([[0., 0., 1., ..., 0., 0., 0.],\n",
       "       [0., 0., 0., ..., 1., 0., 0.],\n",
       "       [0., 0., 0., ..., 1., 0., 0.],\n",
       "       ...,\n",
       "       [0., 0., 0., ..., 0., 0., 0.],\n",
       "       [0., 0., 0., ..., 1., 0., 0.],\n",
       "       [0., 1., 0., ..., 0., 0., 0.]], dtype=float32)"
      ]
     },
     "execution_count": 12,
     "metadata": {},
     "output_type": "execute_result"
    }
   ],
   "source": [
    "train_labels"
   ]
  },
  {
   "cell_type": "code",
   "execution_count": 13,
   "id": "37658692",
   "metadata": {},
   "outputs": [],
   "source": [
    "def create_convolutional_model(classes):\n",
    "    model = Sequential()\n",
    "    model.add(Conv2D(32,kernel_size=(2,2),strides=(1,1),activation='relu',input_shape=(48,48,1)))\n",
    "    model.add(BatchNormalization())\n",
    "    model.add(MaxPooling2D(pool_size=(2,2),strides=(2,2)))\n",
    "    model.add(Dropout(0.25))\n",
    "    \n",
    "    model.add(Conv2D(filters=64,kernel_size=(2,2),strides=(1,1),activation='relu'))\n",
    "    model.add(BatchNormalization())\n",
    "    model.add(MaxPooling2D(pool_size=(2,2),strides=(1,1)))\n",
    "    model.add(Dropout(0.25))#to prevent neural network from overfitting\n",
    "    \n",
    "    model.add(Conv2D(filters=128,kernel_size=(2,2),strides=(1,1),activation='relu'))\n",
    "    model.add(BatchNormalization())\n",
    "    model.add(MaxPooling2D(pool_size=(2,2),strides=(1,1)))\n",
    "    model.add(Dropout(0.25))\n",
    "    \n",
    "    model.add(Conv2D(filters=256,kernel_size=(2,2),strides=(1,1),activation='relu'))\n",
    "    model.add(BatchNormalization())\n",
    "    model.add(MaxPooling2D(pool_size=(2,2),strides=(1,1)))\n",
    "    model.add(Dropout(0.25))\n",
    "    \n",
    "    model.add(Flatten())\n",
    "    \n",
    "    model.add(Dense(256,activation='relu'))\n",
    "    model.add(BatchNormalization())\n",
    "    model.add(Dropout(0.25))\n",
    "    \n",
    "    model.add(Dense(512,activation='relu'))\n",
    "    model.add(BatchNormalization())\n",
    "    model.add(Dropout(0.25))\n",
    "    \n",
    "    model.add(Dense(classes,activation='softmax'))\n",
    "    \n",
    "    \n",
    "    model.compile(optimizer='adam', loss='categorical_crossentropy', metrics=['accuracy'])\n",
    "    \n",
    "    return model "
   ]
  },
  {
   "cell_type": "code",
   "execution_count": 14,
   "id": "43ece5d6",
   "metadata": {},
   "outputs": [
    {
     "name": "stdout",
     "output_type": "stream",
     "text": [
      "Model: \"sequential\"\n",
      "_________________________________________________________________\n",
      " Layer (type)                Output Shape              Param #   \n",
      "=================================================================\n",
      " conv2d (Conv2D)             (None, 47, 47, 32)        160       \n",
      "                                                                 \n",
      " batch_normalization (BatchN  (None, 47, 47, 32)       128       \n",
      " ormalization)                                                   \n",
      "                                                                 \n",
      " max_pooling2d (MaxPooling2D  (None, 23, 23, 32)       0         \n",
      " )                                                               \n",
      "                                                                 \n",
      " dropout (Dropout)           (None, 23, 23, 32)        0         \n",
      "                                                                 \n",
      " conv2d_1 (Conv2D)           (None, 22, 22, 64)        8256      \n",
      "                                                                 \n",
      " batch_normalization_1 (Batc  (None, 22, 22, 64)       256       \n",
      " hNormalization)                                                 \n",
      "                                                                 \n",
      " max_pooling2d_1 (MaxPooling  (None, 21, 21, 64)       0         \n",
      " 2D)                                                             \n",
      "                                                                 \n",
      " dropout_1 (Dropout)         (None, 21, 21, 64)        0         \n",
      "                                                                 \n",
      " conv2d_2 (Conv2D)           (None, 20, 20, 128)       32896     \n",
      "                                                                 \n",
      " batch_normalization_2 (Batc  (None, 20, 20, 128)      512       \n",
      " hNormalization)                                                 \n",
      "                                                                 \n",
      " max_pooling2d_2 (MaxPooling  (None, 19, 19, 128)      0         \n",
      " 2D)                                                             \n",
      "                                                                 \n",
      " dropout_2 (Dropout)         (None, 19, 19, 128)       0         \n",
      "                                                                 \n",
      " conv2d_3 (Conv2D)           (None, 18, 18, 256)       131328    \n",
      "                                                                 \n",
      " batch_normalization_3 (Batc  (None, 18, 18, 256)      1024      \n",
      " hNormalization)                                                 \n",
      "                                                                 \n",
      " max_pooling2d_3 (MaxPooling  (None, 17, 17, 256)      0         \n",
      " 2D)                                                             \n",
      "                                                                 \n",
      " dropout_3 (Dropout)         (None, 17, 17, 256)       0         \n",
      "                                                                 \n",
      " flatten (Flatten)           (None, 73984)             0         \n",
      "                                                                 \n",
      " dense (Dense)               (None, 256)               18940160  \n",
      "                                                                 \n",
      " batch_normalization_4 (Batc  (None, 256)              1024      \n",
      " hNormalization)                                                 \n",
      "                                                                 \n",
      " dropout_4 (Dropout)         (None, 256)               0         \n",
      "                                                                 \n",
      " dense_1 (Dense)             (None, 512)               131584    \n",
      "                                                                 \n",
      " batch_normalization_5 (Batc  (None, 512)              2048      \n",
      " hNormalization)                                                 \n",
      "                                                                 \n",
      " dropout_5 (Dropout)         (None, 512)               0         \n",
      "                                                                 \n",
      " dense_2 (Dense)             (None, 7)                 3591      \n",
      "                                                                 \n",
      "=================================================================\n",
      "Total params: 19,252,967\n",
      "Trainable params: 19,250,471\n",
      "Non-trainable params: 2,496\n",
      "_________________________________________________________________\n"
     ]
    }
   ],
   "source": [
    "classes=7\n",
    "model = create_convolutional_model(classes)\n",
    "model.summary()"
   ]
  },
  {
   "cell_type": "code",
   "execution_count": 15,
   "id": "27b4e46c",
   "metadata": {},
   "outputs": [
    {
     "name": "stdout",
     "output_type": "stream",
     "text": [
      "Epoch 1/10\n",
      "274/274 - 183s - loss: 1.9131 - accuracy: 0.3221 - 183s/epoch - 668ms/step\n",
      "Epoch 2/10\n",
      "274/274 - 182s - loss: 1.5223 - accuracy: 0.4258 - 182s/epoch - 664ms/step\n",
      "Epoch 3/10\n",
      "274/274 - 181s - loss: 1.3599 - accuracy: 0.4819 - 181s/epoch - 661ms/step\n",
      "Epoch 4/10\n",
      "274/274 - 192s - loss: 1.2477 - accuracy: 0.5234 - 192s/epoch - 700ms/step\n",
      "Epoch 5/10\n",
      "274/274 - 181s - loss: 1.1506 - accuracy: 0.5626 - 181s/epoch - 662ms/step\n",
      "Epoch 6/10\n",
      "274/274 - 182s - loss: 1.0853 - accuracy: 0.5901 - 182s/epoch - 664ms/step\n",
      "Epoch 7/10\n",
      "274/274 - 184s - loss: 1.0236 - accuracy: 0.6166 - 184s/epoch - 670ms/step\n",
      "Epoch 8/10\n",
      "274/274 - 188s - loss: 0.9718 - accuracy: 0.6360 - 188s/epoch - 687ms/step\n",
      "Epoch 9/10\n",
      "274/274 - 184s - loss: 0.8842 - accuracy: 0.6709 - 184s/epoch - 671ms/step\n",
      "Epoch 10/10\n",
      "274/274 - 182s - loss: 0.8162 - accuracy: 0.6972 - 182s/epoch - 666ms/step\n"
     ]
    },
    {
     "data": {
      "text/plain": [
       "<keras.callbacks.History at 0x2a983349d60>"
      ]
     },
     "execution_count": 15,
     "metadata": {},
     "output_type": "execute_result"
    }
   ],
   "source": [
    "#train the CNN \n",
    "model.fit(train_images,train_labels,batch_size=105,epochs=10,verbose=2)"
   ]
  },
  {
   "cell_type": "code",
   "execution_count": 16,
   "id": "45df1988",
   "metadata": {},
   "outputs": [],
   "source": [
    "label_pred=model.predict(test_images)\n",
    "label_pred=np.argmax(label_pred,axis = 1)"
   ]
  },
  {
   "cell_type": "code",
   "execution_count": 17,
   "id": "fd7c07cf",
   "metadata": {},
   "outputs": [
    {
     "name": "stdout",
     "output_type": "stream",
     "text": [
      "Normalized confusion matrix\n",
      "[[0.61394381 0.00520291 0.04994797 0.09885536 0.05827263 0.04786681\n",
      "  0.12591051]\n",
      " [0.3490566  0.25471698 0.02830189 0.0754717  0.09433962 0.10377358\n",
      "  0.09433962]\n",
      " [0.35685885 0.00298211 0.15407555 0.07455268 0.10437376 0.18091451\n",
      "  0.12624254]\n",
      " [0.12302667 0.00707676 0.00979858 0.70604246 0.02776266 0.03483941\n",
      "  0.09145346]\n",
      " [0.34734338 0.01268834 0.05075337 0.08643933 0.26645519 0.05075337\n",
      "  0.18556701]\n",
      " [0.11639549 0.00375469 0.02753442 0.06382979 0.0175219  0.74217772\n",
      "  0.02878598]\n",
      " [0.32864238 0.00413907 0.02235099 0.08278146 0.07284768 0.05463576\n",
      "  0.43460265]]\n"
     ]
    },
    {
     "data": {
      "image/png": "[encoded data removed]",
      "text/plain": [
       "<Figure size 432x288 with 2 Axes>"
      ]
     },
     "metadata": {
      "needs_background": "light"
     },
     "output_type": "display_data"
    }
   ],
   "source": [
    "#making confusion matrix\n",
    "import itertools\n",
    "from sklearn.metrics import confusion_matrix\n",
    "\n",
    "def plot_confusion_matrix(cm, classes,\n",
    "                          normalize=False,\n",
    "                          title='Confusion matrix',\n",
    "                          cmap=plt.cm.Blues):\n",
    "    \"\"\"\n",
    "    This function prints and plots the confusion matrix.\n",
    "    Normalization can be applied by setting `normalize=True`.\n",
    "    \"\"\"\n",
    "    if normalize:\n",
    "        cm = cm.astype('float') / cm.sum(axis=1)[:, np.newaxis]\n",
    "        print(\"Normalized confusion matrix\")\n",
    "    else:\n",
    "        print('Confusion matrix, without normalization')\n",
    "\n",
    "    print(cm)\n",
    "\n",
    "    plt.imshow(cm, interpolation='nearest', cmap=cmap)\n",
    "    plt.title(title)\n",
    "    plt.colorbar()\n",
    "    tick_marks = np.arange(len(classes))\n",
    "    plt.xticks(tick_marks, classes, rotation=45)\n",
    "    plt.yticks(tick_marks, classes)\n",
    "\n",
    "    fmt = '.2f' if normalize else 'd'\n",
    "    thresh = cm.max() / 2.\n",
    "    for i, j in itertools.product(range(cm.shape[0]), range(cm.shape[1])):\n",
    "        plt.text(j, i, format(cm[i, j], fmt),\n",
    "                 horizontalalignment=\"center\",\n",
    "                 color=\"white\" if cm[i, j] > thresh else \"black\")\n",
    "\n",
    "    plt.ylabel('True label')\n",
    "    plt.xlabel('Predicted label')\n",
    "    plt.tight_layout()\n",
    "\n",
    "test_labels=np.argmax(test_labels,axis=1)\n",
    "# Compute confusion matrix\n",
    "cnf_matrix = confusion_matrix(test_labels,label_pred)\n",
    "class_names=Expressions\n",
    "# Plot normalized confusion matrix\n",
    "plt.figure()\n",
    "plot_confusion_matrix(cnf_matrix, classes=class_names, normalize=True,\n",
    "                      title='Normalized confusion matrix')\n",
    "\n",
    "plt.show()"
   ]
  },
  {
   "cell_type": "code",
   "execution_count": 19,
   "id": "0e20d991",
   "metadata": {},
   "outputs": [],
   "source": [
    "#Save the weights\n",
    "filename='model_weights.hdf5'\n",
    "model.save_weights(filename,overwrite=True)"
   ]
  },
  {
   "cell_type": "code",
   "execution_count": 20,
   "id": "d277ff11",
   "metadata": {},
   "outputs": [],
   "source": [
    "#Save the weights\n",
    "filename='model_weights.hdf5'\n",
    "model.load_weights(filename)"
   ]
  },
  {
   "cell_type": "code",
   "execution_count": 21,
   "id": "37cd84a6",
   "metadata": {},
   "outputs": [],
   "source": [
    "import cv2\n",
    "def make_prediction(unknown):\n",
    "    unknown=cv2.resize(unknown,(48,48))\n",
    "    unknown=unknown/255.0\n",
    "    unknown=np.array(unknown).reshape(-1,48,48,1)\n",
    "    predict=np.argmax(model.predict(unknown),axis = 1)\n",
    "    return predict[0]  "
   ]
  },
  {
   "cell_type": "code",
   "execution_count": 33,
   "id": "be4b1001",
   "metadata": {},
   "outputs": [],
   "source": [
    "def face_in_video():\n",
    "    face_cascade = cv2.CascadeClassifier(cv2.data.haarcascades + 'haarcascade_frontalface_default.xml')\n",
    "    cap=cv2.VideoCapture(0)\n",
    "    while True:\n",
    "        ret,img=cap.read()  \n",
    "        gray = cv2.cvtColor(img,cv2.COLOR_BGR2GRAY)\n",
    "        faces = face_cascade.detectMultiScale(gray,1.3,5)\n",
    "        \n",
    "        for (x,y,w,h) in faces:\n",
    "            sub_face = gray[y:y+h, x:x+w]\n",
    "            cv2.rectangle(img,(x,y),(x+w,y+h),(255,0,0),2)\n",
    "            res=make_prediction(sub_face)\n",
    "            font = cv2.FONT_HERSHEY_SIMPLEX\n",
    "            cv2.putText(img,str(Expressions[res]),(x,y-5),font,0.5,(205,200,50),1,cv2.LINE_AA)\n",
    "        cv2.imshow('img',img)\n",
    "        if cv2.waitKey(1) & 0xFF ==ord('q'):\n",
    "            break\n",
    "    cap.release()\n",
    "    cv2.destroyAllWindows()  \n",
    " "
   ]
  },
  {
   "cell_type": "code",
   "execution_count": null,
   "id": "5ca1bb63",
   "metadata": {},
   "outputs": [],
   "source": [
    "face_in_video()"
   ]
  },
  {
   "cell_type": "code",
   "execution_count": null,
   "id": "83f8a11c",
   "metadata": {},
   "outputs": [],
   "source": []
  }
 ],
 "metadata": {
  "kernelspec": {
   "display_name": "Python 3 (ipykernel)",
   "language": "python",
   "name": "python3"
  },
  "language_info": {
   "codemirror_mode": {
    "name": "ipython",
    "version": 3
   },
   "file_extension": ".py",
   "mimetype": "text/x-python",
   "name": "python",
   "nbconvert_exporter": "python",
   "pygments_lexer": "ipython3",
   "version": "3.9.7"
  }
 },
 "nbformat": 4,
 "nbformat_minor": 5
}
